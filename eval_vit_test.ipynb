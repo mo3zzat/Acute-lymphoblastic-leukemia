{
  "nbformat": 4,
  "nbformat_minor": 0,
  "metadata": {
    "colab": {
      "name": "eval vit_test.ipynb",
      "provenance": [],
      "collapsed_sections": [],
      "machine_shape": "hm"
    },
    "kernelspec": {
      "name": "python3",
      "display_name": "Python 3"
    },
    "language_info": {
      "name": "python"
    },
    "accelerator": "GPU"
  },
  "cells": [
    {
      "cell_type": "code",
      "source": [
        "! pip install transformers pytorch-lightning --quiet\n",
        "! sudo apt -qq install git-lfs\n",
        "! git config --global credential.helper store"
      ],
      "metadata": {
        "colab": {
          "base_uri": "https://localhost:8080/"
        },
        "id": "G3Mxg5eIBOTa",
        "outputId": "e0c1936e-a6b5-4044-c52d-9770e86543ce"
      },
      "execution_count": null,
      "outputs": [
        {
          "output_type": "stream",
          "name": "stdout",
          "text": [
            "git-lfs is already the newest version (2.3.4-1).\n",
            "The following package was automatically installed and is no longer required:\n",
            "  libnvidia-common-460\n",
            "Use 'sudo apt autoremove' to remove it.\n",
            "0 upgraded, 0 newly installed, 0 to remove and 45 not upgraded.\n"
          ]
        }
      ]
    },
    {
      "cell_type": "code",
      "execution_count": null,
      "metadata": {
        "id": "gSR5sK8Nar3Q"
      },
      "outputs": [],
      "source": [
        "import os\n",
        "import requests\n",
        "import math\n",
        "import matplotlib.pyplot as plt\n",
        "import shutil\n",
        "from getpass import getpass\n",
        "from PIL import Image, UnidentifiedImageError\n",
        "from requests.exceptions import HTTPError\n",
        "from io import BytesIO\n",
        "from pathlib import Path\n",
        "import torch\n",
        "import pytorch_lightning as pl\n",
        "from huggingface_hub import HfApi, HfFolder, Repository, notebook_login\n",
        "from torch.utils.data import DataLoader\n",
        "from torchmetrics import Accuracy\n",
        "from torchvision.datasets import ImageFolder\n",
        "from transformers import ViTFeatureExtractor, ViTForImageClassification\n",
        "from transformers import AutoFeatureExtractor, AutoModelForImageClassification\n",
        "import cv2\n",
        "import numpy as np\n",
        "import matplotlib.pyplot as plt\n",
        "import seaborn as sns\n",
        "from google.colab import drive\n",
        "from torchvision import transforms\n",
        "import jax\n",
        "from sklearn.metrics import confusion_matrix, roc_auc_score, roc_curve, auc\n",
        "import pandas as pd"
      ]
    },
    {
      "cell_type": "code",
      "source": [
        "from google.colab import drive\n",
        "drive.mount('/content/drive')"
      ],
      "metadata": {
        "colab": {
          "base_uri": "https://localhost:8080/"
        },
        "id": "WAu6GzI7bPDD",
        "outputId": "a0585537-e83c-410c-88cc-3678d5994713"
      },
      "execution_count": null,
      "outputs": [
        {
          "output_type": "stream",
          "name": "stdout",
          "text": [
            "Drive already mounted at /content/drive; to attempt to forcibly remount, call drive.mount(\"/content/drive\", force_remount=True).\n"
          ]
        }
      ]
    },
    {
      "cell_type": "code",
      "source": [
        "drive_dir = '/content/drive/MyDrive/GP DataSet/DataSets/C-NMC_Leukemia/vit/'"
      ],
      "metadata": {
        "id": "zJoF2CObbR66"
      },
      "execution_count": null,
      "outputs": []
    },
    {
      "cell_type": "code",
      "source": [
        "class ImageClassificationCollator:\n",
        "    def __init__(self, feature_extractor):\n",
        "        self.feature_extractor = feature_extractor\n",
        "    def __call__(self, batch):\n",
        "        encodings = self.feature_extractor([x[0] for x in batch], return_tensors='pt')\n",
        "        encodings['labels'] = torch.tensor([x[1] for x in batch], dtype=torch.long)\n",
        "        return encodings "
      ],
      "metadata": {
        "id": "EJarS36AUM9U"
      },
      "execution_count": null,
      "outputs": []
    },
    {
      "cell_type": "code",
      "source": [
        "test_data=torch.load(drive_dir+\"vit_test_1_95/\"+\"test_loader.pth\")"
      ],
      "metadata": {
        "id": "ctNQzo6kVHhF"
      },
      "execution_count": null,
      "outputs": []
    },
    {
      "cell_type": "code",
      "source": [
        "img_size = 250\n",
        "feature_extractor = AutoFeatureExtractor.from_pretrained(\"25khattab/vit_test_1_95\")\n",
        "model = AutoModelForImageClassification.from_pretrained(\"25khattab/vit_test_1_95\")\n",
        "path = drive_dir"
      ],
      "metadata": {
        "id": "KRGK7Tr2Y9Wp"
      },
      "execution_count": null,
      "outputs": []
    },
    {
      "cell_type": "code",
      "source": [
        "from sklearn.metrics import confusion_matrix\n",
        "preds=[]\n",
        "labels=[]\n",
        "\n",
        "test_data_iter=iter(test_data)\n",
        "while True:\n",
        "  try:\n",
        "    test_batch = next(test_data_iter)\n",
        "    outputs = model(**test_batch)\n",
        "    logits = outputs.logits\n",
        "    predicted_label =  outputs.logits.sigmoid().argmax(-1)\n",
        "    for i in range(len(predicted_label)):\n",
        "      pred=0 if predicted_label[i]==0 else 1\n",
        "      preds.append(pred)\n",
        "      lab=0 if test_batch[\"labels\"][i]==0 else 1\n",
        "      labels.append(lab)\n",
        "  except StopIteration:\n",
        "     break"
      ],
      "metadata": {
        "id": "_tf7CcDxT9A5"
      },
      "execution_count": null,
      "outputs": []
    },
    {
      "cell_type": "code",
      "source": [
        "def plot_confusion_matrix(y_true, y_pred, title=\"Confusion Matrix\", xlabel=\"Prediction\", ylabel=\"True\"):\n",
        "  conf_matrix = confusion_matrix(y_true, y_pred)\n",
        "  names = ['True Negative', 'False Positive', 'False Negative', 'True Positive']\n",
        "  percents = [\"{0:.3%}\".format(num) for num in conf_matrix.flatten()/np.sum(conf_matrix)]\n",
        "  labels = []\n",
        "  for i in range(conf_matrix.shape[0]):\n",
        "    labels.append([])\n",
        "    for j in range(conf_matrix.shape[1]):\n",
        "      labels[-1].append(f\"{names[2*i+j]}\\n{conf_matrix[i, j]}\\n{percents[2*i+j]}\")\n",
        "  sns.heatmap(conf_matrix, annot=labels, cmap='Blues', fmt='')\n",
        "  plt.title(title)\n",
        "  plt.xlabel(xlabel)\n",
        "  plt.ylabel(ylabel)\n",
        "  return conf_matrix"
      ],
      "metadata": {
        "id": "KGTj9piSkBku"
      },
      "execution_count": null,
      "outputs": []
    },
    {
      "cell_type": "code",
      "source": [
        "cm=plot_confusion_matrix(labels, preds, \"Model Confusion Matrix\")"
      ],
      "metadata": {
        "colab": {
          "base_uri": "https://localhost:8080/",
          "height": 295
        },
        "id": "gCsVxdpjbEOg",
        "outputId": "df5bb37e-3424-4287-f7eb-1f26474f35f8"
      },
      "execution_count": null,
      "outputs": [
        {
          "output_type": "display_data",
          "data": {
            "text/plain": [
              "<Figure size 432x288 with 2 Axes>"
            ],
            "image/png": "[encoded data removed]"
          },
          "metadata": {
            "needs_background": "light"
          }
        }
      ]
    },
    {
      "cell_type": "code",
      "source": [
        "eval_metrics = \"TP\tTN\tFP\tFN\tAccuracy\tSensitivity\tSpecificity\tPPV\tNPV\tAUC\tF1\".split()\n",
        "evaluations_test = {metric: {\"model\":None} for metric in eval_metrics}\n",
        "tn=cm[0][0]\n",
        "tp=cm[1][1]\n",
        "fp=cm[0][1]\n",
        "fn=cm[1][0]\n",
        "acc=np.sum(np.diag(cm)/np.sum(cm))\n",
        "sensitivity=tp/(tp+fn)\n",
        "precision=tp/(tp+fp)\n",
        "specificity=tn/(tn+fp)\n",
        "ppv = tp / (tp + tp + 1e-100)\n",
        "npv = tn / (tn + fn + 1e-100)\n",
        "auc_value = roc_auc_score(labels, preds)\n",
        "f1_score =  tp/(tp + 0.5 * (fp + fn) + 1e-100)"
      ],
      "metadata": {
        "id": "JgeIlfyzmFQn"
      },
      "execution_count": null,
      "outputs": []
    },
    {
      "cell_type": "code",
      "source": [
        "evaluations_test[\"TP\"][\"model\"] = tp\n",
        "evaluations_test[\"TN\"][\"model\"] = tn\n",
        "evaluations_test[\"FP\"][\"model\"] = fp\n",
        "evaluations_test[\"FN\"][\"model\"] = fn\n",
        "evaluations_test[\"Accuracy\"][\"model\"] = acc\n",
        "evaluations_test[\"Sensitivity\"][\"model\"] = sensitivity\n",
        "evaluations_test[\"Specificity\"][\"model\"] = specificity\n",
        "evaluations_test[\"PPV\"][\"model\"] = ppv\n",
        "evaluations_test[\"NPV\"][\"model\"] = npv\n",
        "evaluations_test[\"AUC\"][\"model\"] = auc_value\n",
        "evaluations_test[\"F1\"][\"model\"] = f1_score\n",
        "evaluations_val = pd.DataFrame(evaluations_test)\n",
        "display(evaluations_val)"
      ],
      "metadata": {
        "colab": {
          "base_uri": "https://localhost:8080/",
          "height": 81
        },
        "id": "QaPIvg07qFc2",
        "outputId": "b2458c81-6979-4be9-f14c-9b5bfba4396c"
      },
      "execution_count": null,
      "outputs": [
        {
          "output_type": "display_data",
          "data": {
            "text/plain": [
              "         TP   TN  FP  FN  Accuracy  Sensitivity  Specificity  PPV    NPV  \\\n",
              "model  1034  958  73  42   0.94542     0.960967     0.929195  0.5  0.958   \n",
              "\n",
              "            AUC       F1  \n",
              "model  0.945081  0.94732  "
            ],
            "text/html": [
              "\n",
              "  <div id=\"df-9af5b6ab-02d8-4fe8-b5b5-4950d7d23a61\">\n",
              "    <div class=\"colab-df-container\">\n",
              "      <div>\n",
              "<style scoped>\n",
              "    .dataframe tbody tr th:only-of-type {\n",
              "        vertical-align: middle;\n",
              "    }\n",
              "\n",
              "    .dataframe tbody tr th {\n",
              "        vertical-align: top;\n",
              "    }\n",
              "\n",
              "    .dataframe thead th {\n",
              "        text-align: right;\n",
              "    }\n",
              "</style>\n",
              "<table border=\"1\" class=\"dataframe\">\n",
              "  <thead>\n",
              "    <tr style=\"text-align: right;\">\n",
              "      <th></th>\n",
              "      <th>TP</th>\n",
              "      <th>TN</th>\n",
              "      <th>FP</th>\n",
              "      <th>FN</th>\n",
              "      <th>Accuracy</th>\n",
              "      <th>Sensitivity</th>\n",
              "      <th>Specificity</th>\n",
              "      <th>PPV</th>\n",
              "      <th>NPV</th>\n",
              "      <th>AUC</th>\n",
              "      <th>F1</th>\n",
              "    </tr>\n",
              "  </thead>\n",
              "  <tbody>\n",
              "    <tr>\n",
              "      <th>model</th>\n",
              "      <td>1034</td>\n",
              "      <td>958</td>\n",
              "      <td>73</td>\n",
              "      <td>42</td>\n",
              "      <td>0.94542</td>\n",
              "      <td>0.960967</td>\n",
              "      <td>0.929195</td>\n",
              "      <td>0.5</td>\n",
              "      <td>0.958</td>\n",
              "      <td>0.945081</td>\n",
              "      <td>0.94732</td>\n",
              "    </tr>\n",
              "  </tbody>\n",
              "</table>\n",
              "</div>\n",
              "      <button class=\"colab-df-convert\" onclick=\"convertToInteractive('df-9af5b6ab-02d8-4fe8-b5b5-4950d7d23a61')\"\n",
              "              title=\"Convert this dataframe to an interactive table.\"\n",
              "              style=\"display:none;\">\n",
              "        \n",
              "  <svg xmlns=\"http://www.w3.org/2000/svg\" height=\"24px\"viewBox=\"0 0 24 24\"\n",
              "       width=\"24px\">\n",
              "    <path d=\"M0 0h24v24H0V0z\" fill=\"none\"/>\n",
              "    <path d=\"M18.56 5.44l.94 2.06.94-2.06 2.06-.94-2.06-.94-.94-2.06-.94 2.06-2.06.94zm-11 1L8.5 8.5l.94-2.06 2.06-.94-2.06-.94L8.5 2.5l-.94 2.06-2.06.94zm10 10l.94 2.06.94-2.06 2.06-.94-2.06-.94-.94-2.06-.94 2.06-2.06.94z\"/><path d=\"M17.41 7.96l-1.37-1.37c-.4-.4-.92-.59-1.43-.59-.52 0-1.04.2-1.43.59L10.3 9.45l-7.72 7.72c-.78.78-.78 2.05 0 2.83L4 21.41c.39.39.9.59 1.41.59.51 0 1.02-.2 1.41-.59l7.78-7.78 2.81-2.81c.8-.78.8-2.07 0-2.86zM5.41 20L4 18.59l7.72-7.72 1.47 1.35L5.41 20z\"/>\n",
              "  </svg>\n",
              "      </button>\n",
              "      \n",
              "  <style>\n",
              "    .colab-df-container {\n",
              "      display:flex;\n",
              "      flex-wrap:wrap;\n",
              "      gap: 12px;\n",
              "    }\n",
              "\n",
              "    .colab-df-convert {\n",
              "      background-color: #E8F0FE;\n",
              "      border: none;\n",
              "      border-radius: 50%;\n",
              "      cursor: pointer;\n",
              "      display: none;\n",
              "      fill: #1967D2;\n",
              "      height: 32px;\n",
              "      padding: 0 0 0 0;\n",
              "      width: 32px;\n",
              "    }\n",
              "\n",
              "    .colab-df-convert:hover {\n",
              "      background-color: #E2EBFA;\n",
              "      box-shadow: 0px 1px 2px rgba(60, 64, 67, 0.3), 0px 1px 3px 1px rgba(60, 64, 67, 0.15);\n",
              "      fill: #174EA6;\n",
              "    }\n",
              "\n",
              "    [theme=dark] .colab-df-convert {\n",
              "      background-color: #3B4455;\n",
              "      fill: #D2E3FC;\n",
              "    }\n",
              "\n",
              "    [theme=dark] .colab-df-convert:hover {\n",
              "      background-color: #434B5C;\n",
              "      box-shadow: 0px 1px 3px 1px rgba(0, 0, 0, 0.15);\n",
              "      filter: drop-shadow(0px 1px 2px rgba(0, 0, 0, 0.3));\n",
              "      fill: #FFFFFF;\n",
              "    }\n",
              "  </style>\n",
              "\n",
              "      <script>\n",
              "        const buttonEl =\n",
              "          document.querySelector('#df-9af5b6ab-02d8-4fe8-b5b5-4950d7d23a61 button.colab-df-convert');\n",
              "        buttonEl.style.display =\n",
              "          google.colab.kernel.accessAllowed ? 'block' : 'none';\n",
              "\n",
              "        async function convertToInteractive(key) {\n",
              "          const element = document.querySelector('#df-9af5b6ab-02d8-4fe8-b5b5-4950d7d23a61');\n",
              "          const dataTable =\n",
              "            await google.colab.kernel.invokeFunction('convertToInteractive',\n",
              "                                                     [key], {});\n",
              "          if (!dataTable) return;\n",
              "\n",
              "          const docLinkHtml = 'Like what you see? Visit the ' +\n",
              "            '<a target=\"_blank\" href=https://colab.research.google.com/notebooks/data_table.ipynb>data table notebook</a>'\n",
              "            + ' to learn more about interactive tables.';\n",
              "          element.innerHTML = '';\n",
              "          dataTable['output_type'] = 'display_data';\n",
              "          await google.colab.output.renderOutput(dataTable, element);\n",
              "          const docLink = document.createElement('div');\n",
              "          docLink.innerHTML = docLinkHtml;\n",
              "          element.appendChild(docLink);\n",
              "        }\n",
              "      </script>\n",
              "    </div>\n",
              "  </div>\n",
              "  "
            ]
          },
          "metadata": {}
        }
      ]
    },
    {
      "cell_type": "code",
      "source": [
        "# from sklearn.metrics import confusion_matrix\n",
        "# from tqdm import tqdm\n",
        "\n",
        "# preds=[]\n",
        "# labels=[]\n",
        "# for img,label in tqdm(zip(val_x_files,val_y),total=val_x_files.shape[0]):\n",
        "#   # print(img,label)\n",
        "#   try:\n",
        "#       # img_arr = cv2.imread(os.path.join(path, img))[...,::-1]\n",
        "#       resized_arr = cv2.resize(img, (img_size, img_size))\n",
        "#       plt.imshow(resized_arr)\n",
        "#       inputs=feature_extractor(np.array(resized_arr), return_tensors=\"pt\")\n",
        "#       outputs = model(**inputs)\n",
        "#       logits = outputs.logits\n",
        "#       predicted_label = logits.argmax(-1).item()\n",
        "#       pred=1 if predicted_label==0 else 0\n",
        "#       preds.append(pred)\n",
        "#       labels.append(label)\n",
        "    \n",
        "#   except Exception as e:\n",
        "#       print(e)\n",
        "\n",
        "# print(confusion_matrix(labels,preds))"
      ],
      "metadata": {
        "id": "lGyOZWOYVy2N"
      },
      "execution_count": null,
      "outputs": []
    },
    {
      "cell_type": "code",
      "source": [
        "# for img in sorted(os.listdir(path), key = lambda x: (len (x), x)):\n",
        "#   try:\n",
        "#       img_arr = cv2.imread(os.path.join(path, img))[...,::-1]\n",
        "#       resized_arr = cv2.resize(img_arr, (img_size, img_size))\n",
        "#       plt.imshow(resized_arr)\n",
        "#       inputs=feature_extractor(np.array(resized_arr), return_tensors=\"pt\")\n",
        "#       outputs = model(**inputs)\n",
        "#       logits = outputs.logits\n",
        "#       predicted_label = logits.argmax(-1).item()\n",
        "#       predict=model.config.id2label[predicted_label]\n",
        "#       print(img,predict)\n",
        "#       img2=os.path.splitext(img)[0]\n",
        "#       with open(os.path.join(drive2_dir,'isbi_valid.predict'), 'a') as f:\n",
        "#             if predict==\"LABEL_0\":\n",
        "#               f.write(\"0\\n\")\n",
        "#             else:\n",
        "#               f.write(\"1\\n\")     \n",
        "#   except Exception as e:\n",
        "#       print(e)"
      ],
      "metadata": {
        "id": "M4terZ3Qunis"
      },
      "execution_count": null,
      "outputs": []
    }
  ]
}